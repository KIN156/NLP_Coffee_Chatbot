{
  "nbformat": 4,
  "nbformat_minor": 0,
  "metadata": {
    "colab": {
      "provenance": []
    },
    "kernelspec": {
      "name": "python3",
      "display_name": "Python 3"
    },
    "language_info": {
      "name": "python"
    }
  },
  "cells": [
    {
      "cell_type": "code",
      "execution_count": null,
      "metadata": {
        "colab": {
          "base_uri": "https://localhost:8080/"
        },
        "id": "kCDZvhj754Yt",
        "outputId": "4459a2c0-d048-46ed-c6a3-15c416ff4a52"
      },
      "outputs": [
        {
          "name": "stdout",
          "output_type": "stream",
          "text": [
            "Type 'exit' to quit the chatbot\n",
            "You: Can I order a coffee?\n",
            "1/1 [==============================] - 0s 184ms/step\n",
            "Bot: Of course! What's your order?\n",
            "You: What kinds of coffee do you have?\n",
            "1/1 [==============================] - 0s 28ms/step\n",
            "Bot: If you're looking for something bold, I recommend trying our dark roast. If you want something lighter, our blonde roast is a great option.\n",
            "You: How much does a coffee cost?\n",
            "1/1 [==============================] - 0s 26ms/step\n",
            "Bot: Our prices vary depending on the size and type of drink. A small coffee starts at $2.50.\n",
            "You: Can I get a latte please?\n",
            "1/1 [==============================] - 0s 26ms/step\n",
            "Bot: Sure thing, a latte it is!\n",
            "You: What's the price of a latte?\n",
            "1/1 [==============================] - 0s 26ms/step\n",
            "Bot: A cappuccino is $3.50 for a small.\n",
            "You: Can I pay with a credit card?\n",
            "1/1 [==============================] - 0s 28ms/step\n",
            "Bot: We accept all major credit cards, as well as cash.\n",
            "You: Where's my order?\n",
            "1/1 [==============================] - 0s 25ms/step\n",
            "Bot: I'm sorry for the delay. Let me check on the status of your order.\n",
            "You: Do you have cream for coffee?\n",
            "1/1 [==============================] - 0s 30ms/step\n",
            "Bot: Absolutely! I'll make sure to add that to your coffee.\n",
            "You: See you later\n",
            "1/1 [==============================] - 0s 26ms/step\n",
            "Bot: Take care! Come back soon!\n",
            "You: exit\n"
          ]
        }
      ],
      "source": [
        "#kinjalkumari Dhimmar: 301239901\n",
        "import json\n",
        "import pickle\n",
        "import tensorflow as tf\n",
        "import numpy as np\n",
        "from tensorflow.keras.preprocessing.sequence import pad_sequences\n",
        "\n",
        "# Load the intents json file\n",
        "with open('kinjalkumari_intents.json') as file:\n",
        "    data = json.load(file)\n",
        "\n",
        "# Load the tokenizer and encoder\n",
        "with open('tokenizer.pickle', 'rb') as handle:\n",
        "    tokenizer = pickle.load(handle)\n",
        "\n",
        "with open('encoder.pickle', 'rb') as handle:\n",
        "    encoder = pickle.load(handle)\n",
        "\n",
        "# Load the saved model\n",
        "model = tf.keras.models.load_model('chatbot_model.h5')\n",
        "\n",
        "# Define function to predict intent from input text\n",
        "def predict_intent(text):\n",
        "    # Tokenize the input text\n",
        "    sequence = tokenizer.texts_to_sequences([text])\n",
        "    padded_sequence = pad_sequences(sequence, maxlen=35, padding='post', truncating='post')\n",
        "\n",
        "    # Predict the intent\n",
        "    prediction = model.predict(padded_sequence)\n",
        "    intent = encoder.inverse_transform([np.argmax(prediction)])\n",
        "\n",
        "    return intent[0]\n",
        "\n",
        "# Define function to get response for intent\n",
        "def get_response(intent):\n",
        "    for i in data['intents']:\n",
        "        if i['tag'] == intent:\n",
        "            return np.random.choice(i['responses'])\n",
        "\n",
        "# Start chatting with the user\n",
        "print(\"Type 'exit' to quit the chatbot\")\n",
        "while True:\n",
        "    # Get user input\n",
        "    user_input = input(\"You: \")\n",
        "\n",
        "    # Check if user wants to exit\n",
        "    if user_input.lower() == 'exit':\n",
        "        break\n",
        "\n",
        "    # Predict the intent and get response\n",
        "    intent = predict_intent(user_input)\n",
        "    response = get_response(intent)\n",
        "\n",
        "    # Print the response\n",
        "    print(\"Bot:\", response)\n"
      ]
    }
  ]
}